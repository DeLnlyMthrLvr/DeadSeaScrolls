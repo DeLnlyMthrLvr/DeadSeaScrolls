{
 "cells": [
  {
   "cell_type": "code",
   "execution_count": null,
   "id": "37894e83",
   "metadata": {},
   "outputs": [],
   "source": [
    "import pandas as pd\n",
    "from enum import Enum\n",
    "\n",
    "df = pd.read_csv(\"../data/ngrams/ngrams_frequencies_withNames.csv\")\n",
    "df[\"Names\"] = df[\"Names\"].str.replace(\"Tasdi-final\", \"Tsadi-final\")\n",
    "df[\"Names\"] = df[\"Names\"].str.replace(r'Tsadi(?!-final)', \"Tsadi-medial\", regex=True)\n",
    "\n",
    "class A(Enum):\n",
    "    Alef = \"Alef\"\n",
    "    Ayin = \"Ayin\"\n",
    "    Bet = \"Bet\"\n",
    "    Dalet = \"Dalet\"\n",
    "    Gimel = \"Gimel\"\n",
    "    He = \"He\"\n",
    "    Het = \"Het\"\n",
    "    Kaf = \"Kaf\"\n",
    "    Kaf_final = \"Kaf-final\"\n",
    "    Lamed = \"Lamed\"\n",
    "    Mem = \"Mem\"\n",
    "    Mem_medial = \"Mem-medial\"\n",
    "    Nun_final = \"Nun-final\"\n",
    "    Nun_medial = \"Nun-medial\"\n",
    "    Pe = \"Pe\"\n",
    "    Pe_final = \"Pe-final\"\n",
    "    Qof = \"Qof\"\n",
    "    Resh = \"Resh\"\n",
    "    Samekh = \"Samekh\"\n",
    "    Shin = \"Shin\"\n",
    "    Taw = \"Taw\"\n",
    "    Tet = \"Tet\"\n",
    "    Tsadi_final = \"Tsadi-final\"\n",
    "    Tsadi_medial = \"Tsadi-medial\"\n",
    "    Waw = \"Waw\"\n",
    "    Yod = \"Yod\"\n",
    "    Zayin = \"Zayin\"\n",
    "    Space = \" \"\n",
    "\n",
    "str_to_enum = {\n",
    "    e.value: e for e in A\n",
    "}\n",
    "\n",
    "\n",
    "enums = []\n",
    "\n",
    "for names in df[\"Names\"]:\n",
    "    list_names = names.split(\"_\")\n",
    "    enums.append(tuple(str_to_enum[name] for name in list_names))\n",
    "\n"
   ]
  },
  {
   "cell_type": "code",
   "execution_count": null,
   "id": "71d3eed1",
   "metadata": {},
   "outputs": [],
   "source": []
  }
 ],
 "metadata": {
  "kernelspec": {
   "display_name": "sea",
   "language": "python",
   "name": "python3"
  },
  "language_info": {
   "codemirror_mode": {
    "name": "ipython",
    "version": 3
   },
   "file_extension": ".py",
   "mimetype": "text/x-python",
   "name": "python",
   "nbconvert_exporter": "python",
   "pygments_lexer": "ipython3",
   "version": "3.12.0"
  }
 },
 "nbformat": 4,
 "nbformat_minor": 5
}
